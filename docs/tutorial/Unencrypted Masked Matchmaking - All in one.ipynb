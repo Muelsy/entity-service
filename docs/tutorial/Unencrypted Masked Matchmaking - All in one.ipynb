{
 "cells": [
  {
   "cell_type": "markdown",
   "metadata": {},
   "source": [
    "# Tutorial: Getting Started with the Entity Service\n",
    "\n",
    "\n",
    "This notebook demonstrates creating a new mapping on the entity service, and how to retrieve the results. The output type is an unencrypted permutation and mask.\n",
    "\n",
    "The sections are usually run on different companies - but for illustration all is carried out in this one file.\n"
   ]
  },
  {
   "cell_type": "code",
   "execution_count": 95,
   "metadata": {},
   "outputs": [],
   "source": [
    "url = 'https://es.data61.xyz/api/v1'"
   ]
  },
  {
   "cell_type": "markdown",
   "metadata": {},
   "source": [
    "## Data preparation\n",
    "\n",
    "Following the clkhash tutorial we will use a dataset from the `recordlinkage` library. We will just write both datasets out to temporary CSV files.\n",
    "\n",
    "If you are following along yourself you may have to adjust the file names in all the `!clkutil` commands."
   ]
  },
  {
   "cell_type": "code",
   "execution_count": 96,
   "metadata": {},
   "outputs": [],
   "source": [
    "from tempfile import NamedTemporaryFile\n",
    "from recordlinkage.datasets import load_febrl4"
   ]
  },
  {
   "cell_type": "code",
   "execution_count": 98,
   "metadata": {},
   "outputs": [
    {
     "name": "stdout",
     "output_type": "stream",
     "text": [
      "Datasets written to /tmp/tmp6yb5k2g1 and /tmp/tmp2i9artbn\n"
     ]
    }
   ],
   "source": [
    "dfA, dfB = load_febrl4()\n",
    "\n",
    "a_csv = NamedTemporaryFile('w')\n",
    "a_clks = NamedTemporaryFile('w', suffix='.json')\n",
    "dfA.to_csv(a_csv)\n",
    "a_csv.seek(0)\n",
    "\n",
    "b_csv = NamedTemporaryFile('w')\n",
    "b_clks = NamedTemporaryFile('w', suffix='.json')\n",
    "dfB.to_csv(b_csv)\n",
    "b_csv.seek(0)\n",
    "\n",
    "dfA.head()\n",
    "print(\"Datasets written to {} and {}\".format(a_csv.name, b_csv.name))"
   ]
  },
  {
   "cell_type": "markdown",
   "metadata": {},
   "source": [
    "## Schema Preparation\n",
    "\n",
    "The linkage schema must be agreed on by the two parties."
   ]
  },
  {
   "cell_type": "code",
   "execution_count": 100,
   "metadata": {},
   "outputs": [
    {
     "name": "stdout",
     "output_type": "stream",
     "text": [
      "Schema written to /tmp/tmpf4vyc2qk.yaml\n"
     ]
    }
   ],
   "source": [
    "column_metadata = [\n",
    "    'INDEX',\n",
    "    'NAME Surname',\n",
    "    'NAME First Name',\n",
    "    'ADDRESS House Number',\n",
    "    'ADDRESS Place Name',\n",
    "    'ADDRESS Place Name',\n",
    "    'ADDRESS Place Name',\n",
    "    'ADDRESS POSTCODE',\n",
    "    'ADDRESS Place Name',\n",
    "    'DOB YYYY/MM/DD',\n",
    "    'INDEX'\n",
    "]\n",
    "\n",
    "schema = NamedTemporaryFile(\"wt\", suffix='.yaml')\n",
    "for col in column_metadata:\n",
    "    print('- identifier: \"{}\"'.format(col), file=schema)\n",
    "\n",
    "schema.seek(0)\n",
    "print(\"Schema written to\", schema.name)"
   ]
  },
  {
   "cell_type": "markdown",
   "metadata": {},
   "source": [
    "## Integration Authority\n",
    "\n",
    "The analyst carrying out the linkage starts by creating a mapping with the Entity Service and stores the credentials which are returned."
   ]
  },
  {
   "cell_type": "code",
   "execution_count": 101,
   "metadata": {},
   "outputs": [
    {
     "name": "stdout",
     "output_type": "stream",
     "text": [
      "Credentials will be saved in /tmp/tmp51q_lx05\n"
     ]
    }
   ],
   "source": [
    "creds = NamedTemporaryFile('wt')\n",
    "print(\"Credentials will be saved in\", creds.name)"
   ]
  },
  {
   "cell_type": "code",
   "execution_count": 102,
   "metadata": {},
   "outputs": [
    {
     "name": "stdout",
     "output_type": "stream",
     "text": [
      "\u001b[31mEntity Matching Server: https://es.data61.xyz\u001b[0m\n",
      "\u001b[31mChecking server status\u001b[0m\n",
      "\u001b[31mServer Status: ok\u001b[0m\n",
      "\u001b[31mSchema: [{\"identifier\": \"INDEX\"}, {\"identifier\": \"NAME Surname\"}, {\"identifier\": \"NAME First Name\"}, {\"identifier\": \"ADDRESS House Number\"}, {\"identifier\": \"ADDRESS Place Name\"}, {\"identifier\": \"ADDRESS Place Name\"}, {\"identifier\": \"ADDRESS Place Name\"}, {\"identifier\": \"ADDRESS POSTCODE\"}, {\"identifier\": \"ADDRESS Place Name\"}, {\"identifier\": \"DOB YYYY/MM/DD\"}, {\"identifier\": \"INDEX\"}]\u001b[0m\n",
      "\u001b[31mType: permutation_unencrypted_mask\u001b[0m\n",
      "\u001b[31mCreating new mapping\u001b[0m\n",
      "\u001b[31mMapping created\u001b[0m\n"
     ]
    },
    {
     "data": {
      "text/plain": [
       "0"
      ]
     },
     "execution_count": 102,
     "metadata": {},
     "output_type": "execute_result"
    }
   ],
   "source": [
    "!clkutil create --schema \"{schema.name}\" --output \"{creds.name}\" --type \"permutation_unencrypted_mask\" --server \"{url}\"\n",
    "creds.seek(0)"
   ]
  },
  {
   "cell_type": "code",
   "execution_count": 103,
   "metadata": {},
   "outputs": [
    {
     "data": {
      "text/plain": [
       "{'resource_id': '6a864f764009c77fb47044c5fd3cc1b9eb65c19790e7d502',\n",
       " 'result_token': 'bef2c6c76d7458edac9ad4512457ad4512732c999a852327',\n",
       " 'update_tokens': ['3845f9e4b741e4bbf26780cafac6039cc6472f222ed02e97',\n",
       "  '3d43092dea9d38c1cf1454a92fd70be3097e00e2aa17611d']}"
      ]
     },
     "execution_count": 103,
     "metadata": {},
     "output_type": "execute_result"
    }
   ],
   "source": [
    "import json\n",
    "with open(creds.name, 'r') as f:\n",
    "    credentials = json.load(f)\n",
    "    \n",
    "credentials"
   ]
  },
  {
   "cell_type": "markdown",
   "metadata": {},
   "source": [
    "Now the data providers will need to be told the `resource_id` and each need to be given one of the two `update_tokens`.\n",
    "\n",
    "## Hash and Upload\n",
    "\n",
    "At the moment both data providers have *raw* personally identiy information. We first have to hash the raw entity information. Please see [clkhash](https://clkhash.readthedocs.io/) documentation for further details on this."
   ]
  },
  {
   "cell_type": "code",
   "execution_count": 104,
   "metadata": {},
   "outputs": [
    {
     "name": "stdout",
     "output_type": "stream",
     "text": [
      "generating CLKs: 100%|█| 5.00K/5.00K [00:02<00:00, 921clk/s, mean=912, std=27.8]\n",
      "\u001b[31mCLK data written to /tmp/tmpo1m109bt.json\u001b[0m\n",
      "generating CLKs: 100%|█| 5.00K/5.00K [00:02<00:00, 900clk/s, mean=905, std=32.7]\n",
      "\u001b[31mCLK data written to /tmp/tmpmobcy7op.json\u001b[0m\n"
     ]
    }
   ],
   "source": [
    "!clkutil hash --schema \"{schema.name}\" \"{a_csv.name}\" horse staple \"{a_clks.name}\"\n",
    "!clkutil hash --schema \"{schema.name}\" \"{b_csv.name}\" horse staple \"{b_clks.name}\""
   ]
  },
  {
   "cell_type": "markdown",
   "metadata": {},
   "source": [
    "Now the two clients can upload their data providing the appropriate *upload tokens*."
   ]
  },
  {
   "cell_type": "code",
   "execution_count": 6,
   "metadata": {},
   "outputs": [
    {
     "name": "stdout",
     "output_type": "stream",
     "text": [
      "Usage: clkutil upload [OPTIONS] INPUT\n",
      "\n",
      "  Upload CLK data to entity matching server.\n",
      "\n",
      "  Given a json file containing hashed clk data as INPUT, upload to the\n",
      "  entity resolution service.\n",
      "\n",
      "  Use \"-\" to read from stdin.\n",
      "\n",
      "Options:\n",
      "  --mapping TEXT         Server identifier of the mapping\n",
      "  --apikey TEXT          Authentication API key for the server.\n",
      "  --server TEXT          Server address including protocol\n",
      "  -o, --output FILENAME\n",
      "  -v, --verbose          Script is more talkative\n",
      "  --help                 Show this message and exit.\n"
     ]
    }
   ],
   "source": [
    "!clkutil upload --help"
   ]
  },
  {
   "cell_type": "code",
   "execution_count": 105,
   "metadata": {
    "collapsed": true
   },
   "outputs": [],
   "source": [
    "# Upload Alice's data\n",
    "!clkutil upload \\\n",
    "    --mapping=\"{credentials['resource_id']}\" \\\n",
    "    --apikey=\"{credentials['update_tokens'][0]}\" \\\n",
    "    \"{a_clks.name}\""
   ]
  },
  {
   "cell_type": "markdown",
   "metadata": {},
   "source": [
    "Every upload gets a receipt token. In some operating modes this receipt is required to access the results. For ease of use we will **manually** save this receipt token so we can use it later."
   ]
  },
  {
   "cell_type": "code",
   "execution_count": 107,
   "metadata": {},
   "outputs": [],
   "source": [
    "mid = credentials['resource_id']\n",
    "alice_receipt_token = \"9a9e3c5471af13169387029d6f5efa0bf84880549f5d42d9\""
   ]
  },
  {
   "cell_type": "code",
   "execution_count": 108,
   "metadata": {},
   "outputs": [
    {
     "name": "stdout",
     "output_type": "stream",
     "text": [
      "\u001b[31mUploading CLK data from /tmp/tmpmobcy7op.json\u001b[0m\n",
      "\u001b[31mTo Entity Matching Server: https://es.data61.xyz\u001b[0m\n",
      "\u001b[31mMapping ID: 6a864f764009c77fb47044c5fd3cc1b9eb65c19790e7d502\u001b[0m\n",
      "\u001b[31mChecking server status\u001b[0m\n",
      "\u001b[31mStatus: ok\u001b[0m\n",
      "\u001b[31mUploading CLK data to the server\u001b[0m\n",
      "{\"message\": \"Updated\", \"receipt-token\": \"f9c394a4e7687f5ecd263d4a4c800f743677fac9667a2900\"}\n",
      "\n"
     ]
    }
   ],
   "source": [
    "# Upload Bob's data\n",
    "!clkutil upload \\\n",
    "    --mapping=\"{credentials['resource_id']}\" \\\n",
    "    --apikey=\"{credentials['update_tokens'][1]}\" \\\n",
    "    \"{b_clks.name}\"\n"
   ]
  },
  {
   "cell_type": "code",
   "execution_count": 109,
   "metadata": {
    "collapsed": true
   },
   "outputs": [],
   "source": [
    "bob_receipt_token = \"f9c394a4e7687f5ecd263d4a4c800f743677fac9667a2900\""
   ]
  },
  {
   "cell_type": "markdown",
   "metadata": {},
   "source": [
    "## Results\n",
    "\n",
    "Now after some delay (depending on the size) we can fetch the mask.\n",
    "This can be done with clkutil:\n",
    "\n",
    "    !clkutil results \\\n",
    "        --mapping=\"{credentials['resource_id']}\" \\\n",
    "        --apikey=\"{credentials['result_token']}\" --output results.txt\n",
    "        \n",
    "But we are going to use the Python `requests` library:"
   ]
  },
  {
   "cell_type": "code",
   "execution_count": 110,
   "metadata": {
    "collapsed": true
   },
   "outputs": [],
   "source": [
    "import requests\n",
    "import json"
   ]
  },
  {
   "cell_type": "code",
   "execution_count": 111,
   "metadata": {},
   "outputs": [],
   "source": [
    "mask = requests.get('{}/mappings/{}'.format(url, mid), headers={'Authorization': credentials['result_token']}).json()['mask']"
   ]
  },
  {
   "cell_type": "markdown",
   "metadata": {},
   "source": [
    "This mask is a boolean array that specifies where the permuted data lines up"
   ]
  },
  {
   "cell_type": "code",
   "execution_count": 112,
   "metadata": {},
   "outputs": [
    {
     "name": "stdout",
     "output_type": "stream",
     "text": [
      "[1, 1, 0, 1, 1, 1, 1, 0, 1, 1]\n"
     ]
    }
   ],
   "source": [
    "print(mask[:10])"
   ]
  },
  {
   "cell_type": "markdown",
   "metadata": {},
   "source": [
    "We also use `requests` to fetch the permutations for each data provider:"
   ]
  },
  {
   "cell_type": "code",
   "execution_count": 113,
   "metadata": {
    "collapsed": true
   },
   "outputs": [],
   "source": [
    "alice_res = requests.get('{}/mappings/{}'.format(url, mid), headers={'Authorization': alice_receipt_token}).json()\n",
    "bob_res = requests.get('{}/mappings/{}'.format(url, mid), headers={'Authorization': bob_receipt_token}).json()"
   ]
  },
  {
   "cell_type": "markdown",
   "metadata": {},
   "source": [
    "Now Alice and Bob both have a new permutation - a new ordering for their data."
   ]
  },
  {
   "cell_type": "code",
   "execution_count": 114,
   "metadata": {},
   "outputs": [
    {
     "data": {
      "text/plain": [
       "[503, 4123, 2722, 2223, 581, 1026, 1307, 4690, 4838, 3668]"
      ]
     },
     "execution_count": 114,
     "metadata": {},
     "output_type": "execute_result"
    }
   ],
   "source": [
    "alice_permutation = alice_res['permutation']\n",
    "alice_permutation[:10]"
   ]
  },
  {
   "cell_type": "code",
   "execution_count": 115,
   "metadata": {},
   "outputs": [
    {
     "data": {
      "text/plain": [
       "[671, 154, 2544, 1387, 4495, 4871, 2111, 3035, 2100, 4518]"
      ]
     },
     "execution_count": 115,
     "metadata": {},
     "output_type": "execute_result"
    }
   ],
   "source": [
    "bob_permutation = bob_res['permutation']\n",
    "bob_permutation[:10]"
   ]
  },
  {
   "cell_type": "code",
   "execution_count": 116,
   "metadata": {
    "collapsed": true
   },
   "outputs": [],
   "source": [
    "def reorder(items, order):\n",
    "    \"\"\"\n",
    "    Assume order is a list of new index\n",
    "    \"\"\"\n",
    "    neworder = items.copy()\n",
    "    for item, newpos in zip(items, order):\n",
    "        neworder[newpos] = item\n",
    "    \n",
    "    return neworder"
   ]
  },
  {
   "cell_type": "code",
   "execution_count": 117,
   "metadata": {
    "collapsed": true
   },
   "outputs": [],
   "source": [
    "with open(a_csv.name, 'r') as f:\n",
    "    alice_raw = f.readlines()\n",
    "    alice_reordered = reorder(alice_raw, alice_permutation)\n",
    "\n",
    "with open(b_csv.name, 'r') as f:\n",
    "    bob_raw = f.readlines()\n",
    "    bob_reordered = reorder(bob_raw, bob_permutation)"
   ]
  },
  {
   "cell_type": "code",
   "execution_count": 118,
   "metadata": {},
   "outputs": [
    {
     "data": {
      "text/plain": [
       "['rec-1321-org,tyler,painter,74,michael holt crescent,three rivers tourist park,kangaroo flat,4858,nsw,19291017,6615450\\n',\n",
       " 'rec-245-org,taylah,meaney,60,lumholtz place,cordelia state,torquay,2282,vic,19470106,1744252\\n',\n",
       " 'rec-491-org,courtney,petersen,9,abercrombie circuit,myross,canterbury,2200,vic,19331227,9627876\\n',\n",
       " 'rec-3297-org,alicia,lamonaca,15,vickers crescent,ballawinna stud,deakin,6701,nsw,19780805,4465146\\n',\n",
       " 'rec-265-org,hamish,teague,46,middleton circuit,colooli village,burwood,4128,nsw,19731030,9222441\\n',\n",
       " 'rec-3198-org,kristen,white,5,sherlock street,morayfield exchange,wangaratta,5082,wa,19761201,8300732\\n',\n",
       " 'rec-3777-org,lachlan,ricard,40,maribyrnong avenue,tintagel,bowral,4158,sa,19471123,6012074\\n',\n",
       " 'rec-686-org,zarlia,hage,69,catchpole street,tryphinia view,casino,3180,vic,19130311,5080759\\n',\n",
       " 'rec-1095-org,tiarna,croker,3,roope close,westport,preston west,3318,,19460426,9509846\\n',\n",
       " 'rec-3779-org,ajay,chetwyn,13,cope place,c/-the student village,,2164,nsw,19290222,6258884\\n']"
      ]
     },
     "execution_count": 118,
     "metadata": {},
     "output_type": "execute_result"
    }
   ],
   "source": [
    "alice_reordered[:10]"
   ]
  },
  {
   "cell_type": "code",
   "execution_count": 119,
   "metadata": {},
   "outputs": [
    {
     "data": {
      "text/plain": [
       "['rec-4604-dup-0,caitlin,morrisln,8,augustus close,,clarkson,4170,nsw,19130704,9362649\\n',\n",
       " 'rec-610-dup-0,lachlan,rau,68,loxton place,montrose,dedearng,3377,wa,19260502,1638351\\n',\n",
       " 'rec-1108-dup-0,lachln,murton,191,barraclough crescent,medcl cntr (cnr queen s street,east hills,2707,nsw,19770527,2068877\\n',\n",
       " 'rec-819-dup-0,jessiac,bastiaans,130,beazley crescent,,ingleburn,3029,qld,19270912,7965000\\n',\n",
       " 'rec-2166-dup-0,isabelle,geraghty,16,hawdonstreet,council accomm,theodore,4812,nsw,19861012,4201009\\n',\n",
       " 'rec-871-dup-0,limbert,benjamin,201,blackman crescent,karinyah,woodbine,2228,nsw,19020429,5534369\\n',\n",
       " 'rec-3479-dup-0,makenzie,michelmore,29,marcus clarke street,leitrim,ivanhoe,2199,vic,19081127,5210533\\n',\n",
       " 'rec-4931-dup-0,rebecca,spzrk,10,walker c rescent,,casino,4121,nsw,19990319,3829447\\n',\n",
       " 'rec-584-dup-0,renee,renfrey,24,serpentine street,retmntvvlge,winchelsea,2176,wa,19690305,5153203\\n',\n",
       " 'rec-1174-dup-0,lilfy,browne,1,spring rsne road,,someret,2024,qld,19990812,1727298\\n']"
      ]
     },
     "execution_count": 119,
     "metadata": {},
     "output_type": "execute_result"
    }
   ],
   "source": [
    "bob_reordered[:10]"
   ]
  },
  {
   "cell_type": "markdown",
   "metadata": {},
   "source": [
    "## Accuracy\n",
    "\n",
    "To compute how well the matching went we will use the social security number as our reference."
   ]
  },
  {
   "cell_type": "code",
   "execution_count": 123,
   "metadata": {},
   "outputs": [
    {
     "name": "stdout",
     "output_type": "stream",
     "text": [
      "rec-1321-org,tyler,painter,74,michael holt crescent,three rivers tourist park,kangaroo flat,4858,nsw,19291017,6615450 True\n",
      "rec-245-org,taylah,meaney,60,lumholtz place,cordelia state,torquay,2282,vic,19470106,1744252 True\n",
      "rec-3297-org,alicia,lamonaca,15,vickers crescent,ballawinna stud,deakin,6701,nsw,19780805,4465146 True\n",
      "rec-265-org,hamish,teague,46,middleton circuit,colooli village,burwood,4128,nsw,19731030,9222441 True\n",
      "rec-3198-org,kristen,white,5,sherlock street,morayfield exchange,wangaratta,5082,wa,19761201,8300732 True\n",
      "rec-3777-org,lachlan,ricard,40,maribyrnong avenue,tintagel,bowral,4158,sa,19471123,6012074 True\n",
      "rec-1095-org,tiarna,croker,3,roope close,westport,preston west,3318,,19460426,9509846 True\n",
      "rec-3779-org,ajay,chetwyn,13,cope place,c/-the student village,,2164,nsw,19290222,6258884 True\n",
      "rec-3739-org,jacob,,1,barada crescent,challicum south,bacchus marsh,3206,nsw,19370320,8873242 True\n",
      "rec-3508-org,jacob,campain,7,logan street,bimbadoon,toowoomba,4551,qld,19520416,1591935 True\n",
      "rec-149-org,carla,hofhuis,7,mcculloch street,wytaliba,south brisbane,4066,nsw,19660816,3472110 True\n",
      "rec-4776-org,georgia,metaxiotis,15,augustus way,moodwood angus stud,tuart hill,3196,vic,19130627,5883327 True\n",
      "rec-4948-org,dylan,czoloszynski,55,templestowe avenue,rocklea,regents park,2065,wa,19740614,3880965 True\n",
      "rec-2510-org,harriet,clarke,6,tanumbirini street,r s l retrmnt vlge,burleigh waters,2305,nsw,19590810,5578997 True\n",
      "rec-2189-org,nathan,sells,2,vickery street,yachting towers,magill,3223,nsw,19240701,6367815 True\n",
      "rec-258-org,daniel,harrington,,la perouse street,bull plain,bogangar,3173,vic,19030123,4348887 True\n",
      "rec-1991-org,fergus,clarke,14,o'rourke street,bobblegigbie,casula,2213,vic,19380302,1449123 True\n",
      "rec-1369-org,solomon,wasson,37,hewlett circuit,utopia,mermaid waters,3021,vic,19840211,4681625 True\n"
     ]
    }
   ],
   "source": [
    "for i, m in enumerate(mask[:20]):\n",
    "    if m:\n",
    "        print(alice_reordered[i].strip(), alice_reordered[i][-1] == bob_reordered[i][-1])"
   ]
  },
  {
   "cell_type": "code",
   "execution_count": 124,
   "metadata": {
    "collapsed": true
   },
   "outputs": [
    {
     "name": "stdout",
     "output_type": "stream",
     "text": [
      "4047\n"
     ]
    }
   ],
   "source": [
    "correct_matches = 0\n",
    "incorrect_matches = 0\n",
    "\n",
    "\n",
    "for i, m in enumerate(mask):\n",
    "    if m:\n",
    "        if alice_reordered[i][-1] == bob_reordered[i][-1]:\n",
    "            correct_matches += 1\n",
    "\n",
    "print(correct_matches)"
   ]
  },
  {
   "cell_type": "code",
   "execution_count": null,
   "metadata": {},
   "outputs": [],
   "source": []
  }
 ],
 "metadata": {
  "kernelspec": {
   "display_name": "Python 3",
   "language": "python",
   "name": "python3"
  },
  "language_info": {
   "codemirror_mode": {
    "name": "ipython",
    "version": 3
   },
   "file_extension": ".py",
   "mimetype": "text/x-python",
   "name": "python",
   "nbconvert_exporter": "python",
   "pygments_lexer": "ipython3",
   "version": "3.5.5"
  }
 },
 "nbformat": 4,
 "nbformat_minor": 2
}
